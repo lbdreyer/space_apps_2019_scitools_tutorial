{
 "cells": [
  {
   "cell_type": "markdown",
   "metadata": {},
   "source": [
    "# NASA Space Apps Challenge 2019: Iris and Cartopy Tutorial\n",
    "\n",
    "### Friday 18th October 2019, 11:00 - 12:30\n",
    "\n",
    "This tutorial introduces Iris and Cartopy, two open-source Python libraries written and maintained by the AVD Team at the Met Office.\n",
    "\n",
    "## Contents\n",
    "\n",
    "<ol>\n",
    "    <li><a href=\"#Introduction\">Introduction</a></li>\n",
    "    <li><a href=\"#Brief-Intro-to-Numpy-and-Matplotlib\">Brief Intro to Numpy and Matplotlib</a></li>\n",
    "    <li><a href=\"#Iris\">Iris</a></li>\n",
    "    <li><a href=\"#Cartopy\">Cartopy</a></li>\n",
    "    <li><a href=\"#Final-Exercise\">Final Exercise</a></li>\n",
    "</ol>\n"
   ]
  },
  {
   "cell_type": "markdown",
   "metadata": {},
   "source": [
    "## Introduction\n",
    "### About Scitools\n",
    "\n",
    "Scitools is a collection of Python-based open source tools for Earth scientists to analyse and visualise their data.\n",
    "\n",
    "[Iris](https://scitools.org.uk/iris/docs/latest/) and [Cartopy](https://github.com/SciTools/cartopy) are two of the key packages. \n",
    "\n",
    "<table align=\"left\"><tr>\n",
    "    <td> <img src=\"images/iris_logo.png\" style=\"width: 250px;\"/> </td>\n",
    "    <td> <img src=\"images/cartopy_logo.png\" style=\"width: 250px;\"/> </td>\n",
    "</tr></table>"
   ]
  },
  {
   "cell_type": "markdown",
   "metadata": {},
   "source": [
    "**Iris** does data manipulation and file i/o, using other third-party python packages such as:\n",
    "  * [numpy](https://github.com/numpy/numpy)\n",
    "  * [scipy](https://github.com/scipy/scipy)\n",
    "  * [netCDF4-python](https://github.com/Unidata/netcdf4-python)\n",
    "  * [dask](https://dask.pydata.org/en/latest/)\n",
    "\n",
    "**Cartopy** adds data visualisation and mapping, based on :\n",
    "  * [matplotlib](https//github.com/matplotlib/matplotlib)\n",
    "  * [proj4](https://github.com/OSGeo/PROJ)\n",
    "\n",
    "### Further Resources\n",
    "This is only a _very brief_ overview of Iris and Cartopy. To find out more, see the below links.\n",
    "\n",
    "There are online introductory self-teach courses here:\n",
    "   * https://github.com/SciTools/courses\n",
    "   \n",
    "Full documentation can be found below:\n",
    "   * https://scitools.org.uk/iris/docs/latest/\n",
    "   * https://scitools.org.uk/cartopy/docs/latest/\n",
    "\n",
    "### Acknowledgements\n",
    "Much of the Iris and Cartopy sections in this tutorial are based on a tutorial previously given by Peter Killick, with subsequent modifications made by Patrick Peglar and Alastair Gemmell."
   ]
  },
  {
   "cell_type": "markdown",
   "metadata": {},
   "source": [
    "### Set Up\n",
    "\n",
    "Let's import the libraries we'll need for this notebook"
   ]
  },
  {
   "cell_type": "code",
   "execution_count": null,
   "metadata": {},
   "outputs": [],
   "source": [
    "import cartopy.crs as ccrs\n",
    "import cartopy.feature as cfeat\n",
    "import cartopy.io.shapereader as shpreader\n",
    "import iris\n",
    "import matplotlib.pyplot as plt\n",
    "import numpy as np"
   ]
  },
  {
   "cell_type": "markdown",
   "metadata": {},
   "source": [
    "***"
   ]
  },
  {
   "cell_type": "markdown",
   "metadata": {},
   "source": [
    "## Brief Intro to Numpy and Matplotlib\n",
    "\n",
    "As Iris and Cartopy build on Numpy and Matplotlib, we start by briefly covering the basics of these libraries.\n",
    "\n",
    "In this section we will cover,\n",
    "<ol>\n",
    "    <li><a href=\"#Numpy\">Numpy</a></li>\n",
    "    <ul>\n",
    "        <li><a href=\"#Numpy:-Exercise\">Exercise</a></li>\n",
    "        <li><a href=\"#Numpy:-Further-Resources\">Further-Resources</a></li>\n",
    "    </ul>\n",
    "    <li><a href=\"#Matplotlib\">Matplotlib</a></li>\n",
    "        <ul>\n",
    "        <li><a href=\"#Matplotlib:-Exercise\">Exercise</a></li>\n",
    "        <li><a href=\"#Matplotlib:-Further-Resources\">Further-Resources</a></li>\n",
    "    </ul>\n",
    "</ol>"
   ]
  },
  {
   "cell_type": "markdown",
   "metadata": {},
   "source": [
    "### Numpy\n",
    "\n",
    "[Numpy](https://numpy.org) is a library for working with multidimensional data. The core object, a numpy array, stores the data values.\n",
    "\n",
    "Numpy provides many functions to easily create arrays. Below shows examples of creating an array where all the values are `1` and creating an array of random values."
   ]
  },
  {
   "cell_type": "code",
   "execution_count": null,
   "metadata": {},
   "outputs": [],
   "source": [
    "# Create a 3D array of ones of shape (2,3,3)\n",
    "ones = np.ones((2, 3, 3))\n",
    "print(ones)"
   ]
  },
  {
   "cell_type": "code",
   "execution_count": null,
   "metadata": {},
   "outputs": [],
   "source": [
    "# Create a 2D array of random values, of shape (2,2)\n",
    "random_array = np.random.random((3, 5))\n",
    "print(random_array)"
   ]
  },
  {
   "cell_type": "markdown",
   "metadata": {},
   "source": [
    "We can select a subset of the data array with indexing.\n",
    "\n",
    "We describe what data we want to extract by specifying a index for each dimension."
   ]
  },
  {
   "cell_type": "code",
   "execution_count": null,
   "metadata": {},
   "outputs": [],
   "source": [
    "# Create an array from a nested Python list.\n",
    "a = np.array([[1, 2, 3],\n",
    "              [4, 5, 6],\n",
    "              [7, 8, 9]])\n",
    "\n",
    "# Select the first two rows from the first dimension, and the 1st column\n",
    "subset = a[0:2, 1]\n",
    "print(subset)"
   ]
  },
  {
   "cell_type": "markdown",
   "metadata": {},
   "source": [
    "Numpy allows you to do mathematical operations on these numpy arrays.\n",
    "\n",
    "For example we can perform multiply each element in the array by a value."
   ]
  },
  {
   "cell_type": "code",
   "execution_count": null,
   "metadata": {},
   "outputs": [],
   "source": [
    "# Multiply the `a` array by 10.\n",
    "multiply_10 = a * 10\n",
    "print(multiply_10)"
   ]
  },
  {
   "cell_type": "markdown",
   "metadata": {},
   "source": [
    "We can also calculate the average value in the array, or sum all values in the array."
   ]
  },
  {
   "cell_type": "code",
   "execution_count": null,
   "metadata": {},
   "outputs": [],
   "source": [
    "# Calculate the mean value of the array. \n",
    "a_mean = np.mean(a)\n",
    "print(a_mean)"
   ]
  },
  {
   "cell_type": "code",
   "execution_count": null,
   "metadata": {},
   "outputs": [],
   "source": [
    "# Sum all values in the array.\n",
    "a_sum = np.sum(a)\n",
    "print(a_sum)"
   ]
  },
  {
   "cell_type": "markdown",
   "metadata": {},
   "source": [
    "#### Numpy: Exercise\n",
    "Your turn! \n",
    "Apply what you have learnt so far to do the following:\n",
    "1. Using `np.ones` create an array of shape (2, 3).\n",
    "2. Add 5 to each element.\n",
    "3. Compute the sum of all the values in the array from step 2.\n"
   ]
  },
  {
   "cell_type": "code",
   "execution_count": null,
   "metadata": {},
   "outputs": [],
   "source": []
  },
  {
   "cell_type": "markdown",
   "metadata": {},
   "source": [
    "#### Numpy: Further Resources\n",
    "\n",
    "For more information, see the Numpy Documentation:\n",
    "* https://docs.scipy.org/doc/numpy/\n",
    "\n",
    "Particularly, the reference manual, which explains each function and object in detail, often with helpful examples:\n",
    "* https://docs.scipy.org/doc/numpy/reference/index.html"
   ]
  },
  {
   "cell_type": "markdown",
   "metadata": {},
   "source": [
    "### Matplotlib\n",
    "\n",
    "[Matplotlib](https://matplotlib.org/index.html) is a widely used Python package to produce 2D graphics.\n",
    "\n",
    "A convenient way to use Matplotlib is via the `pyplot` sub-package which is usually imported as `plt`. Below we create a simple line plot using `plt.plot`"
   ]
  },
  {
   "cell_type": "code",
   "execution_count": null,
   "metadata": {},
   "outputs": [],
   "source": [
    "plt.plot([1, 10, 5, 20])\n",
    "plt.show()"
   ]
  },
  {
   "cell_type": "markdown",
   "metadata": {},
   "source": [
    "Matplotlib provides many different types of plot. For example below we create a 2D numpy array of random values then plot a pcolourmesh of this data."
   ]
  },
  {
   "cell_type": "code",
   "execution_count": null,
   "metadata": {},
   "outputs": [],
   "source": [
    "data = np.random.random((10, 10))\n",
    "plt.pcolormesh(data)"
   ]
  },
  {
   "cell_type": "markdown",
   "metadata": {},
   "source": [
    "When matplotlib creates a plot, it will create an `Axes` object. You can use this axes object to modify your plot, such as adding a title or other annotations.\n",
    "\n",
    "Below we create a scatter plot and then add a title and an x- and y-axis label."
   ]
  },
  {
   "cell_type": "code",
   "execution_count": null,
   "metadata": {},
   "outputs": [],
   "source": [
    "x = np.random.random((100,))\n",
    "y = np.random.random((100,))\n",
    "\n",
    "plt.scatter(x, y)\n",
    "ax = plt.gca() # Get the current axes object.\n",
    "ax.set_title(\"Scatter Plot of Random x's and y's\")\n",
    "ax.set_xlabel(\"Random x's\")\n",
    "ax.set_ylabel(\"Random y's\")\n",
    "plt.savefig('simple.png')\n",
    "plt.show()"
   ]
  },
  {
   "cell_type": "markdown",
   "metadata": {},
   "source": [
    "In the above example, we saved the figure matplotlib produced using `plt.savefig`. _NOTE:_ you must do this before calling `plt.show`."
   ]
  },
  {
   "cell_type": "markdown",
   "metadata": {},
   "source": [
    "### Matplotlib: Exercise\n",
    "\n",
    "Apply what you have learnt about Numpy and Matplotlib to do the following\n",
    "1. Create a random array of shape (5,)\n",
    "2. Using `plt.plot` create a line plot of this array"
   ]
  },
  {
   "cell_type": "code",
   "execution_count": null,
   "metadata": {},
   "outputs": [],
   "source": []
  },
  {
   "cell_type": "markdown",
   "metadata": {},
   "source": [
    "### Matplotlib: Further Resources\n",
    "\n",
    "As with Numpy, Matplotlib is widely used and so there is a extensive amount of help online, include many nice examples.\n",
    "\n",
    "For more information, see:\n",
    "* [Matplotlib documentation](https://matplotlib.org/index.html)\n",
    "* [Matplotlib gallery of examples](https://matplotlib.org/gallery/index.html)\n"
   ]
  },
  {
   "cell_type": "markdown",
   "metadata": {},
   "source": [
    "***"
   ]
  },
  {
   "cell_type": "markdown",
   "metadata": {},
   "source": [
    "## Iris\n",
    "\n",
    "Iris provides a consistent Python interface for loading, saving, analysing and visualising different weather and climate data formats.\n",
    "\n",
    "Iris supports loading of all major weather and climate fileformats - NetCDF, GRIB, FF & PP. Iris maintains the single common cube data model when loading datasets stored in all these different formats. This means all these file formats will be represented equivalently in Iris.\n",
    "\n",
    "In this section we will cover:\n",
    "<ol>\n",
    "    <li><a href=\"#The Cube\">The Cube</a></li>\n",
    "    <li><a href=\"#Coordinates\">Coordinates</a></li>\n",
    "    <li><a href=\"#Subsetting-Cubes\">Subsetting Cubes</a></li>\n",
    "    <li><a href=\"#Combining-Cubes\">Combining Cubes</a></li>\n",
    "    <li><a href=\"#Plotting\">Plotting</a></li>\n",
    "    <li><a href=\"#Analysis-and-Statistics\">Analysis and Statistics</a></li>\n",
    "</ol>"
   ]
  },
  {
   "cell_type": "markdown",
   "metadata": {},
   "source": [
    "### The Cube\n",
    "\n",
    "The cube is the data model used by Iris to represent to represents all datasets loaded in Iris. It is a Python object. At its most basic, a cube contains data (commonly a NumPy array) and metadata that describes the NumPy array (such as what the data in the NumPy array describe, the units of the data, where in space and time the data describe, and so on).\n",
    "\n",
    "To add some detail to this, a cube contains:\n",
    "\n",
    "* a single name (or \"phenomenon\") and units that describes what the cube represents\n",
    "* data (commonly a NumPy or dask array with a given shape) that are the actual values recorded for the phenomenon\n",
    "* coordinates that describe how the data are located in time and space\n",
    "* further metadata that describes the dataset, including:\n",
    "    * general attributes\n",
    "    * cell methods for describing statistical operations that have been applied to the dataset\n",
    "    * cell measures for describing the weighting of coordinate points\n",
    "    \n",
    "Let's take a simple example to demonstrate the Cube concept.\n",
    "\n",
    "Suppose we have a ``(3, 2, 4)`` NumPy array:\n",
    "\n",
    "![](images/multi_array.png)\n",
    "\n",
    "Where dimensions 0, 1, and 2 have lengths 3, 2 and 4 respectively.\n",
    "\n",
    "The Iris Cube to represent this data may consist of:\n",
    "\n",
    " * a standard name of \"air_temperature\" and units of \"kelvin\"\n",
    "\n",
    " * a data array of shape ``(3, 2, 4)``\n",
    "\n",
    " * a coordinate, mapping to dimension 0, consisting of:\n",
    "     * a standard name of \"height\" and units of \"meters\"\n",
    "     * an array of length 3 representing the 3 height points\n",
    "     \n",
    " * a coordinate, mapping to dimension 1, consisting of:\n",
    "     * a standard name of \"latitude\" and units of \"degrees\"\n",
    "     * an array of length 2 representing the 2 latitude points\n",
    "     * a coordinate system such that the latitude points could be fully located on the globe\n",
    "     \n",
    " * a coordinate, mapping to dimension 2, consisting of:\n",
    "     * a standard name of \"longitude\" and units of \"degrees\"\n",
    "     * an array of length 4 representing the 4 longitude points\n",
    "     * a coordinate system such that the longitude points could be fully located on the globe\n",
    "\n",
    "Pictorially the Cube has taken on more information than a simple array:\n",
    "\n",
    "![](images/multi_array_to_cube.png)"
   ]
  },
  {
   "cell_type": "markdown",
   "metadata": {},
   "source": [
    "Let's load a file from the [Iris sample data](https://github.com/SciTools/iris-sample-data) repository as an Iris cube and print the cube to take a look at Iris' representation of the cube object:"
   ]
  },
  {
   "cell_type": "code",
   "execution_count": null,
   "metadata": {},
   "outputs": [],
   "source": [
    "fname = iris.sample_data_path('A1B_north_america.nc')\n",
    "print(fname)"
   ]
  },
  {
   "cell_type": "code",
   "execution_count": null,
   "metadata": {},
   "outputs": [],
   "source": [
    "cubes = iris.load(fname)\n",
    "print(cubes)"
   ]
  },
  {
   "cell_type": "markdown",
   "metadata": {},
   "source": [
    "`iris.load` returns an `iris.cube.CubeList` of all the cubes found in the file. From the above print out, we can see that Iris has found and loaded one cube in the given file. This dataset contains air temperature, measured in Kelvin, over North America, according to the A1B climate scenario. The cube represents 3D (time, latitude, longitude) data.\n",
    "\n",
    "To inspect the \"air_temperature\" cube more closely, we can index the \"zeroth\" cube:"
   ]
  },
  {
   "cell_type": "code",
   "execution_count": null,
   "metadata": {},
   "outputs": [],
   "source": [
    "a1b_cube = cubes[0]\n",
    "a1b_cube"
   ]
  },
  {
   "cell_type": "markdown",
   "metadata": {},
   "source": [
    "Cubelists are unordered and so indexing is not a reliable method of selecting a particular cube. Instead, the recommended approach is to use constraints. \n",
    "\n",
    "The example below demonstrates how to tell Iris to only load the `air_temperature` cube."
   ]
  },
  {
   "cell_type": "code",
   "execution_count": null,
   "metadata": {},
   "outputs": [],
   "source": [
    "a1b_cube = iris.load_cube(fname, 'air_temperature')\n",
    "a1b_cube"
   ]
  },
  {
   "cell_type": "markdown",
   "metadata": {},
   "source": [
    "Constraints are discussed further in the \"Subsetting Cubes\" section below, "
   ]
  },
  {
   "cell_type": "markdown",
   "metadata": {},
   "source": [
    "### Coordinates\n",
    "\n",
    "Coordinates are used to describe the location of a cube's data. This could be location on the earth's surface (i.e. latitudes and longitudes), in height (including hybrid height / pressure), time, realisation, and occasionally more unusual dimensions.\n",
    "\n",
    "Iris defines three types of coordinate:\n",
    "* **dimension coordinates** are strictly 1D, numeric and monotonic. They describe and name one of a cube's dimensions.\n",
    "* **auxiliary coordinates** have no restrictions on dimensionality or coordinate values. They are secondary (i.e. \"auxiliary\") metadata for describing one or more cube dimensions. E.g *'Forecast Period'* in the *alb_cube* above\n",
    "* **scalar coordinates** contain only a single value that is true for every point within the cube's data. E.g. *'height'* in the *alb_cube* above.\n",
    "\n",
    "Let's take a closer look at accessing the A1B cube's time coordinate:"
   ]
  },
  {
   "cell_type": "code",
   "execution_count": null,
   "metadata": {},
   "outputs": [],
   "source": [
    "t_coord = a1b_cube.coord('time')\n",
    "print(t_coord[:10])"
   ]
  },
  {
   "cell_type": "markdown",
   "metadata": {},
   "source": [
    "### Subsetting Cubes\n",
    "\n",
    "Iris provides a couple of different mechanisms for subsetting a cube: **indexing** and **constraints / extract**.\n",
    "\n",
    "Cubes can be **indexed** like NumPy arrays:"
   ]
  },
  {
   "cell_type": "code",
   "execution_count": null,
   "metadata": {},
   "outputs": [],
   "source": [
    "# Index the cube to get the first 10 time values, a single latitude value, and 5 longitude values.\n",
    "a1b_cube[:10, 15, 5:10]"
   ]
  },
  {
   "cell_type": "markdown",
   "metadata": {},
   "source": [
    "Subsetting a cube by selecting a range of coordinate values, can be performed with Constraints:"
   ]
  },
  {
   "cell_type": "code",
   "execution_count": null,
   "metadata": {},
   "outputs": [],
   "source": [
    "# Extract from the cube based on latitude and longitude coordinate values.\n",
    "# Coordinate values can be specified directly or via an inequality.\n",
    "lat_lon_values = {'latitude': [16.25, 17.5 , 18.75, 20.],\n",
    "                  'longitude': lambda cell: 255. <= cell < 300.}\n",
    "lat_lon_constraint = iris.Constraint(coord_values=lat_lon_values)\n",
    "\n",
    "lat_lon_subset_cube = a1b_cube.extract(lat_lon_constraint)\n",
    "lat_lon_subset_cube"
   ]
  },
  {
   "cell_type": "markdown",
   "metadata": {},
   "source": [
    "### Combining Cubes\n",
    "\n",
    "Iris provides functionality that takes a number of existing cubes and combines them to produce fewer output cubes:\n",
    "* **merge** takes multiple cubes that differ only in a scalar coordinate values and combines them to produce a new cube with a new dimension created from the scalar coordinate values\n",
    "\n",
    "![](images/merge.png)\n",
    "\n",
    "* **concatenate** extends an existing dimension on a cube by adding another cube to the end of the dimension.\n",
    "\n",
    "![](images/concat.png)\n",
    "\n",
    "\n",
    "Let's take a quick look at an example of concatenating a number of cubes:"
   ]
  },
  {
   "cell_type": "code",
   "execution_count": null,
   "metadata": {},
   "outputs": [],
   "source": [
    "cube_0 = a1b_cube[:120]\n",
    "cube_1 = a1b_cube[120:]\n",
    "temp_cubes = iris.cube.CubeList([cube_0, cube_1])\n",
    "print(temp_cubes)"
   ]
  },
  {
   "cell_type": "markdown",
   "metadata": {},
   "source": [
    "We can concatenate these cubes together, producing a new cube:"
   ]
  },
  {
   "cell_type": "code",
   "execution_count": null,
   "metadata": {},
   "outputs": [],
   "source": [
    "concat_cube = temp_cubes.concatenate_cube()\n",
    "print(concat_cube)"
   ]
  },
  {
   "cell_type": "markdown",
   "metadata": {},
   "source": [
    "### Analysis and Statistics\n",
    "\n",
    "Let's perform some analysis on our air_temperature values by statistically collapsing the time dimension to find the mean average air temperature over time at each `(latitude, longitude)` grid point:"
   ]
  },
  {
   "cell_type": "code",
   "execution_count": null,
   "metadata": {},
   "outputs": [],
   "source": [
    "time_mean_cube = a1b_cube.collapsed('time', iris.analysis.MEAN)\n",
    "print(a1b_cube)\n",
    "print('--' * 50)\n",
    "print(time_mean_cube)"
   ]
  },
  {
   "cell_type": "markdown",
   "metadata": {},
   "source": [
    "We have lost (or \"consumed\") the time dimension by collapsing along it. The data of the resultant 2D cube records the mean average air temperature at each grid point.\n",
    "\n",
    "Iris contains a number of different statistical operators that can be applied in this way, including `mean` (as above), `std`, `min`, `max`, `percentile` and others. Iris can also define custom categorisations for a coordinate and `aggregate_by` the different categorisations, and also collapse on a `rolling_window`."
   ]
  },
  {
   "cell_type": "markdown",
   "metadata": {},
   "source": [
    "### Visualisation\n",
    "\n",
    "We can plot the collapsed 2D cube to produce a map showing the mean average air temperature over north America according to the A1B climate scenario. Iris provides various plotting routines from matplotlib that have been made cube-aware. Iris plotting also integrates seamlessly with matplotlib, so in the cell below we produce a plot using Iris plotting functionality and show it using matplotlib functionality:"
   ]
  },
  {
   "cell_type": "code",
   "execution_count": null,
   "metadata": {},
   "outputs": [],
   "source": [
    "# iris quick-plots interface\n",
    "import iris.quickplot as qplt\n",
    "\n",
    "qplt.pcolormesh(time_mean_cube, cmap='inferno')\n",
    "plt.show()"
   ]
  },
  {
   "cell_type": "markdown",
   "metadata": {},
   "source": [
    "We'll look in more detail at what's going on here in the section below on Cartopy."
   ]
  },
  {
   "cell_type": "markdown",
   "metadata": {},
   "source": [
    "We could also use a constraint (like shown above) to extract all the time values at a single point and plot the change in air temperature at that point over time. For example, let's find out how air temperature changes over time in New York:"
   ]
  },
  {
   "cell_type": "code",
   "execution_count": null,
   "metadata": {},
   "outputs": [],
   "source": [
    "ny_lat = 40.42\n",
    "ny_lon = 286.00\n",
    "\n",
    "# Use approximate horizontal resolution to make sure we extract the grid box\n",
    "# containing New York.\n",
    "lat_res = 0.5\n",
    "lon_res = 0.9\n",
    "location_lat = lambda cell: ny_lat - lat_res <= cell <= ny_lat + lat_res\n",
    "location_lon = lambda cell: ny_lon - lon_res <= cell <= ny_lon + lon_res\n",
    "\n",
    "ny_location_constraint = iris.Constraint(latitude=location_lat,\n",
    "                                         longitude=location_lon)\n",
    "ny_location_cube = a1b_cube.extract(ny_location_constraint)\n",
    "\n",
    "print(ny_location_cube)"
   ]
  },
  {
   "cell_type": "code",
   "execution_count": null,
   "metadata": {},
   "outputs": [],
   "source": [
    "qplt.plot(ny_location_cube)\n",
    "plt.show()"
   ]
  },
  {
   "cell_type": "markdown",
   "metadata": {},
   "source": [
    "***"
   ]
  },
  {
   "cell_type": "markdown",
   "metadata": {},
   "source": [
    "## Cartopy\n",
    "\n",
    "[Cartopy](http://scitools.org.uk/cartopy/docs/latest/index.html) adds cartographic map production functionality to matplotlib allowing plotting of geolocated data onto map projections of the earth's surface. \n",
    "\n",
    "In this section we will cover:\n",
    "<ol>\n",
    "    <li><a href=\"#Map-Projections\">Map Projections</a></li>\n",
    "    <li><a href=\"#Using-projection-and-transform\">Using projection and transform</a></li>\n",
    "    <li><a href=\"#The-Feature-Interface\">The Feature Interface</a></li>\n",
    "    <li><a href=\"#Extraterrestrial-Cartography\">Extraterrestrial Cartography</a></li>\n",
    "</ol>"
   ]
  },
  {
   "cell_type": "markdown",
   "metadata": {},
   "source": [
    "### Map Projections\n",
    "\n",
    "There are numerous ways of \"flattening\" the Earth's 3D surface so that it can be visualised in two dimensions, on a screen or a piece of paper.\n",
    "\n",
    "In cartopy you can specify the type of map projection using the `projection` keyword."
   ]
  },
  {
   "cell_type": "code",
   "execution_count": 46,
   "metadata": {},
   "outputs": [
    {
     "data": {
      "image/png": "[encoded data removed]",
      "text/plain": [
       "<Figure size 864x864 with 4 Axes>"
      ]
     },
     "metadata": {
      "needs_background": "light"
     },
     "output_type": "display_data"
    }
   ],
   "source": [
    "# Make sure the figure is a decent size when plotted.\n",
    "fig = plt.figure(figsize=(12, 12))\n",
    "\n",
    "ax1 = fig.add_subplot(2, 2, 1, projection=ccrs.PlateCarree())\n",
    "ax1.coastlines()\n",
    "\n",
    "ax2 = fig.add_subplot(2, 2, 2, projection=ccrs.Sinusoidal())\n",
    "ax2.coastlines()\n",
    "\n",
    "ax1 = fig.add_subplot(2, 2, 3, projection=ccrs.NorthPolarStereo())\n",
    "ax1.coastlines()\n",
    "\n",
    "ax2 = fig.add_subplot(2, 2, 4, projection=ccrs.Geostationary())\n",
    "ax2.coastlines()\n",
    "\n",
    "# Show all subplots on the same figure.\n",
    "plt.show()"
   ]
  },
  {
   "cell_type": "markdown",
   "metadata": {},
   "source": [
    "Cartopy uses the `proj.4` library to provide map projections that can be used to plot geolocated data. We've already used this functionality when we produced the map plot of the mean average air temperatures over north America. In this case the projection used for the map was the coordinate reference system specified by the cube's `latitude` and `longitude` coordinates:"
   ]
  },
  {
   "cell_type": "code",
   "execution_count": null,
   "metadata": {},
   "outputs": [],
   "source": [
    "qplt.pcolormesh(time_mean_cube, cmap='inferno')\n",
    "ax = plt.gca()\n",
    "ax.coastlines()\n",
    "plt.show()"
   ]
  },
  {
   "cell_type": "markdown",
   "metadata": {},
   "source": [
    "We can also specify the projection we wish to show our data in by using the `projection` keyword argument when setting up a cartopy geoaxes instance. In this case the data to be plotted will be transformed from its coordinate reference system to the specified projection:"
   ]
  },
  {
   "cell_type": "code",
   "execution_count": null,
   "metadata": {},
   "outputs": [],
   "source": [
    "ax = plt.axes(projection=ccrs.LambertConformal())\n",
    "qplt.pcolormesh(time_mean_cube, cmap='inferno')\n",
    "ax.coastlines()\n",
    "plt.show()"
   ]
  },
  {
   "cell_type": "markdown",
   "metadata": {},
   "source": [
    "### Using projection and transform\n",
    "\n",
    "To accurately geolocate content on a cartopy map we need to use the `projection` and `transform` keyword arguments correctly.\n",
    "\n",
    "The **projection** keyword is used when setting up an axes instance. It defines the map projection of the resulting plot.\n",
    "\n",
    "The **transform** keyword is passed to content that will be plotted on a map. It defines the coordinate reference system that  describes the locations of the content being plotted, and is used to transform the locations of the content into the projection of the map that the data will be plotted on. We'll see this in action just a little lower down.\n",
    "\n",
    "Happily, Iris' close integration with cartopy handles most of this for us automatically:\n",
    "* if we plot a horizontal slice of a cube (that is, we produce a map), the cube's horizontal coordinates' `coord_system` defines the cartopy plot's `projection`. We refer to this case as \"plotting a cube in its native projection\".\n",
    "* if we specify a cartopy plot's `projection` then the cube's horizontal coordinates' `coord_system` defines the `transform` used to add the horizontal slice of the cube to the map.\n",
    "\n",
    "We saw both of these cases in the maps above.\n",
    "\n",
    "If we need to add further content to the map we will need to be aware of using these keywords correctly. For example, above we plotted the temperature changes in New York. We could add a point to the Lambert Conformal map that shows the location of New York, making use of the `transform` keyword to make sure New York appears in the correct location on the map:"
   ]
  },
  {
   "cell_type": "code",
   "execution_count": null,
   "metadata": {},
   "outputs": [],
   "source": [
    "# Set up an axes instance with a Lambert Conformal projection\n",
    "# and add content and coastlines.\n",
    "ax = plt.axes(projection=ccrs.LambertConformal())\n",
    "qplt.pcolormesh(time_mean_cube, cmap='inferno')\n",
    "ax.coastlines()\n",
    "\n",
    "# Now plot New York on the map. Note the use of the `transform` keyword.\n",
    "plt.scatter(ny_lon, ny_lat, c='g', s=100, zorder=10, transform=ccrs.PlateCarree())\n",
    "\n",
    "plt.show()"
   ]
  },
  {
   "cell_type": "markdown",
   "metadata": {},
   "source": [
    "### The Feature Interface\n",
    "\n",
    "We've used part of the cartopy feature interface to draw the coastlines on these plots. The `coastlines` method is provided as part of the cartopy `GeoAxes` class API as a convenience method. There are a number of commonly used geographic features provided as convenience attributes of the cartopy feature class:"
   ]
  },
  {
   "cell_type": "code",
   "execution_count": null,
   "metadata": {},
   "outputs": [],
   "source": [
    "# Add coastlines to the map.\n",
    "ax = plt.axes(projection=ccrs.PlateCarree())\n",
    "ax.add_feature(cfeat.COASTLINE)  # Equivalent to `ax.coastlines()`\n",
    "plt.show()"
   ]
  },
  {
   "cell_type": "code",
   "execution_count": null,
   "metadata": {},
   "outputs": [],
   "source": [
    "# Add land and ocean features, that come with preset face colours.\n",
    "ax = plt.axes(projection=ccrs.PlateCarree())\n",
    "ax.add_feature(cfeat.COASTLINE)\n",
    "ax.add_feature(cfeat.LAND)\n",
    "ax.add_feature(cfeat.OCEAN)\n",
    "plt.show()"
   ]
  },
  {
   "cell_type": "code",
   "execution_count": null,
   "metadata": {},
   "outputs": [],
   "source": [
    "# Add country borders.\n",
    "ax = plt.axes(projection=ccrs.PlateCarree())\n",
    "ax.add_feature(cfeat.COASTLINE)\n",
    "ax.add_feature(cfeat.LAND)\n",
    "ax.add_feature(cfeat.OCEAN)\n",
    "ax.add_feature(cfeat.BORDERS, linestyle=':')\n",
    "plt.show()"
   ]
  },
  {
   "cell_type": "code",
   "execution_count": null,
   "metadata": {},
   "outputs": [],
   "source": [
    "# And finally, add lakes and rivers.\n",
    "plt.figure()\n",
    "for i_subplot in (211, 212):\n",
    "    ax = plt.subplot(i_subplot, projection=ccrs.PlateCarree())\n",
    "    ax.add_feature(cfeat.COASTLINE)\n",
    "    ax.add_feature(cfeat.LAND)\n",
    "    ax.add_feature(cfeat.OCEAN)\n",
    "    ax.add_feature(cfeat.BORDERS, linestyle=':')\n",
    "    ax.add_feature(cfeat.LAKES, alpha=0.5)\n",
    "    ax.add_feature(cfeat.RIVERS)\n",
    "    if i_subplot == 212:\n",
    "        ax.set_extent((-175, -90, 40, 70))\n",
    "plt.show()\n"
   ]
  },
  {
   "cell_type": "markdown",
   "metadata": {},
   "source": [
    "### Extraterrestrial Cartography\n",
    "\n",
    "Cartopy, is not limited to Earth Cartography. This same methods can be applied to any spheroid object, by defining the ellipsoid of the object.\n",
    "\n",
    "The following example is taken from the [Cartopy gallery](https://scitools.org.uk/cartopy/docs/latest/gallery/eccentric_ellipse.html#sphx-glr-gallery-eccentric-ellipse-py).\n",
    "\n",
    "The below image shows the topography of the asteroid Vesta.\n",
    "\n",
    "![](https://www.nasa.gov/sites/default/files/pia17037.jpg)\n",
    "\n",
    "We would like to reproject this data onto a Geostationary projection.\n",
    "\n",
    "First we need to define a function that downloads the topography map and returns it, along with information about the coordinate system, and extent of the image."
   ]
  },
  {
   "cell_type": "code",
   "execution_count": null,
   "metadata": {},
   "outputs": [],
   "source": [
    "from urllib.request import urlopen\n",
    "from io import BytesIO\n",
    "\n",
    "from PIL import Image\n",
    "\n",
    "def vesta_image():\n",
    "    \"\"\"\n",
    "    Return an image of Vesta's topography.\n",
    "\n",
    "    Image credit: NASA/JPL-Caltech/UCLA/MPS/DLR/IDA/PSI\n",
    "\n",
    "    Returns\n",
    "    -------\n",
    "    img : numpy array\n",
    "        The pixels of the image in a numpy array.\n",
    "    img_proj : cartopy CRS\n",
    "        The rectangular coordinate system of the image.\n",
    "    img_extent : tuple of floats\n",
    "        The extent of the image ``(x0, y0, x1, y1)`` referenced in\n",
    "        the ``img_proj`` coordinate system.\n",
    "\n",
    "    \"\"\"\n",
    "    url = 'https://www.nasa.gov/sites/default/files/pia17037.jpg'\n",
    "    img_handle = BytesIO(urlopen(url).read())\n",
    "    raw_image = Image.open(img_handle)\n",
    "    # The image is extremely high-resolution, which takes a long time to\n",
    "    # plot. Sub-sampling reduces the time taken to plot while not\n",
    "    # significantly altering the integrity of the result.\n",
    "    smaller_image = raw_image.resize([raw_image.size[0] // 10,\n",
    "                                      raw_image.size[1] // 10])\n",
    "    img = np.asarray(smaller_image)\n",
    "    # We define the semimajor and semiminor axes, but must also tell the\n",
    "    # globe not to use the WGS84 ellipse, which is its default behaviour.\n",
    "    img_globe = ccrs.Globe(semimajor_axis=285000., semiminor_axis=229000.,\n",
    "                           ellipse=None)\n",
    "    img_proj = ccrs.PlateCarree(globe=img_globe)\n",
    "    img_extent = (-895353.906273091, 895353.906273091,\n",
    "                  447676.9531365455, -447676.9531365455)\n",
    "    return img, img_globe, img_proj, img_extent"
   ]
  },
  {
   "cell_type": "markdown",
   "metadata": {},
   "source": [
    "We can then use that function to plot the image it returns on a Geostationary projection."
   ]
  },
  {
   "cell_type": "code",
   "execution_count": null,
   "metadata": {},
   "outputs": [],
   "source": [
    "img, globe, crs, extent = vesta_image()\n",
    "projection = ccrs.Geostationary(globe=globe)\n",
    "\n",
    "ax = plt.axes(projection=projection)\n",
    "ax.imshow(img, transform=crs, extent=extent)\n",
    "ax.text(0.075, 0.012, \"Image credit: NASA/JPL-Caltech/UCLA/MPS/DLR/IDA/PSI\",\n",
    "         bbox={'facecolor': 'w', 'edgecolor': 'k'})\n",
    "plt.show()"
   ]
  },
  {
   "cell_type": "markdown",
   "metadata": {},
   "source": [
    "***"
   ]
  },
  {
   "cell_type": "markdown",
   "metadata": {},
   "source": [
    "## Final Exercise"
   ]
  },
  {
   "cell_type": "markdown",
   "metadata": {},
   "source": [
    "Drawing on all that you have learnt in this tutorial, we are going to load in some data, perform some analysis on it and then visualise the result. "
   ]
  },
  {
   "cell_type": "markdown",
   "metadata": {},
   "source": [
    "1. Using `iris.load_cube`, load the 'electron density' cube from the following file:\n",
    "\n",
    "```fname = iris.sample_data_path('space_weather.nc')```"
   ]
  },
  {
   "cell_type": "code",
   "execution_count": null,
   "metadata": {},
   "outputs": [],
   "source": []
  },
  {
   "cell_type": "markdown",
   "metadata": {},
   "source": [
    "2. Using a constraint, extract data with a height between 100 and 500km.\n",
    "\n",
    "_Hint: The height coordinate is in metres so ensure you supply the upper and lower limit in this unit_"
   ]
  },
  {
   "cell_type": "code",
   "execution_count": null,
   "metadata": {},
   "outputs": [],
   "source": []
  },
  {
   "cell_type": "markdown",
   "metadata": {},
   "source": [
    "3. Calculate the mean over the height dimenion of the cube that is returned."
   ]
  },
  {
   "cell_type": "code",
   "execution_count": null,
   "metadata": {},
   "outputs": [],
   "source": []
  },
  {
   "cell_type": "markdown",
   "metadata": {},
   "source": [
    "4. Plot a pcolormesh of your final cube. Add coastlines to your plot (_Hint remember you can use_ `plt.gca()` _to access the axes object_)"
   ]
  },
  {
   "cell_type": "code",
   "execution_count": null,
   "metadata": {},
   "outputs": [],
   "source": []
  },
  {
   "cell_type": "markdown",
   "metadata": {},
   "source": [
    "5. Create a Geostationary projection and plot the cube onto this projection. Again add coastlines."
   ]
  },
  {
   "cell_type": "code",
   "execution_count": null,
   "metadata": {},
   "outputs": [],
   "source": []
  }
 ],
 "metadata": {
  "kernelspec": {
   "display_name": "experimental-current",
   "language": "python",
   "name": "experimental-current"
  },
  "language_info": {
   "codemirror_mode": {
    "name": "ipython",
    "version": 3
   },
   "file_extension": ".py",
   "mimetype": "text/x-python",
   "name": "python",
   "nbconvert_exporter": "python",
   "pygments_lexer": "ipython3",
   "version": "3.6.6"
  }
 },
 "nbformat": 4,
 "nbformat_minor": 2
}
